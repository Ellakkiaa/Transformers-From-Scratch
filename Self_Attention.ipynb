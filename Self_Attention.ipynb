{
  "nbformat": 4,
  "nbformat_minor": 0,
  "metadata": {
    "colab": {
      "provenance": []
    },
    "kernelspec": {
      "name": "python3",
      "display_name": "Python 3"
    },
    "language_info": {
      "name": "python"
    }
  },
  "cells": [
    {
      "cell_type": "code",
      "execution_count": 3,
      "metadata": {
        "id": "zzIBn4jykWeX"
      },
      "outputs": [],
      "source": [
        "import numpy as np\n",
        "\n",
        "L, d_k, d_v = 4,8,8\n",
        "\n",
        "# random.randn() -> generate data that follows normal distribution with with mean = 0 and standard deviation = 1\n",
        "# The values can be positive or negative and are centered around 0.\n",
        "\n",
        "q = np.random.randn(L,d_k)\n",
        "k = np.random.randn(L,d_k)\n",
        "v = np.random.randn(L,d_k)\n"
      ]
    },
    {
      "cell_type": "code",
      "source": [
        "print(\"Query\\n\",q)\n",
        "print(\"Key\\n\",k)\n",
        "print(\"Value\\n\",v)"
      ],
      "metadata": {
        "colab": {
          "base_uri": "https://localhost:8080/"
        },
        "id": "qsx4npsE4uS8",
        "outputId": "131c0c2e-bf71-434b-99b4-42873575d9d3"
      },
      "execution_count": 7,
      "outputs": [
        {
          "output_type": "stream",
          "name": "stdout",
          "text": [
            "Query\n",
            " [[ 1.87604879  1.0894955   0.92131853 -0.69520508 -0.15763455 -1.08497782\n",
            "   0.4037962  -0.74904617]\n",
            " [-0.46314594  0.23445128 -0.3592481  -0.88368339  0.1536767   0.28977602\n",
            "   0.95884298  0.83218026]\n",
            " [-1.68177452 -0.33330035  0.38734617 -1.834288    1.17236142 -0.11415349\n",
            "  -1.77938838 -1.73784345]\n",
            " [-0.22117961 -0.40622376 -1.08984183 -0.14067862  0.5211167  -0.53582774\n",
            "  -3.31447763 -0.88837207]]\n",
            "Key\n",
            " [[ 0.92951036 -1.36709148 -0.59088346  0.82162489 -0.28907528 -0.05373544\n",
            "   1.1508031  -0.44655926]\n",
            " [-0.04507338  0.66035027 -0.03346834 -0.97592705 -0.7210328  -1.01253913\n",
            "  -0.64381646  0.64713899]\n",
            " [-1.14807747 -0.78885182 -0.29219078  0.14101149 -1.5610208  -0.45963644\n",
            "   0.53587505  1.31900619]\n",
            " [ 0.50306034  1.69757601  1.65403951 -0.94702131 -0.7028133   1.1977334\n",
            "  -0.65861741 -0.31729829]]\n",
            "Value\n",
            " [[-0.77058434 -0.18086082  0.34717439 -0.44675901  0.34852945 -1.29106083\n",
            "   0.30556096  0.8858823 ]\n",
            " [-0.33032634  1.12268768  0.73350555  0.03797777 -0.45899746 -1.92975933\n",
            "   1.28524252 -0.32627732]\n",
            " [-0.96474784 -0.37764482  0.79871417 -0.15948977 -1.53590743 -1.91003201\n",
            "   0.28544953  0.18994187]\n",
            " [-1.23480624 -2.0035703   0.55256077  0.7314865   0.22589624 -0.3467519\n",
            "   0.28340025  0.73929321]]\n"
          ]
        }
      ]
    },
    {
      "cell_type": "markdown",
      "source": [
        "Self-Attention Mechanism"
      ],
      "metadata": {
        "id": "qkKNJNhMkZJY"
      }
    },
    {
      "cell_type": "code",
      "source": [
        "np.matmul(q,k.T)"
      ],
      "metadata": {
        "colab": {
          "base_uri": "https://localhost:8080/"
        },
        "id": "9Hq6ErWyzl-M",
        "outputId": "fe2737a3-1912-46c3-a4f0-cdcda0426712"
      },
      "execution_count": 8,
      "outputs": [
        {
          "output_type": "execute_result",
          "data": {
            "text/plain": [
              "array([[ 0.04183054,  1.7500578 , -3.40737859,  3.75853578],\n",
              "       [-0.5929715 ,  0.56713138,  1.56552638, -0.2488267 ],\n",
              "       [-4.44799011,  0.92412284, -3.20147021,  1.72863325],\n",
              "       [-2.66130864,  1.64130598, -2.64211608, -1.01345311]])"
            ]
          },
          "metadata": {},
          "execution_count": 8
        }
      ]
    },
    {
      "cell_type": "code",
      "source": [
        "q.var() , k.var(), np.matmul(q,k.T).var()"
      ],
      "metadata": {
        "colab": {
          "base_uri": "https://localhost:8080/"
        },
        "id": "FHVAP1ePNwm5",
        "outputId": "50b13119-3320-47a6-bc94-5e3f2c43a949"
      },
      "execution_count": 9,
      "outputs": [
        {
          "output_type": "execute_result",
          "data": {
            "text/plain": [
              "(1.1171506359230339, 0.7808630761759632, 5.075968774921185)"
            ]
          },
          "metadata": {},
          "execution_count": 9
        }
      ]
    },
    {
      "cell_type": "code",
      "source": [
        "import math\n",
        "\n",
        "#we divide by sqrt(d_k) to stabilize the values\n",
        "scaled = np.matmul(q,k.T)/math.sqrt(d_k)\n",
        "scaled"
      ],
      "metadata": {
        "colab": {
          "base_uri": "https://localhost:8080/"
        },
        "id": "dnPUu3fWN91z",
        "outputId": "8888bf95-ca1e-426c-ca04-a66c26e2cd79"
      },
      "execution_count": 18,
      "outputs": [
        {
          "output_type": "execute_result",
          "data": {
            "text/plain": [
              "array([[ 0.01478933,  0.61873887, -1.20469025,  1.32884307],\n",
              "       [-0.20964708,  0.20051122,  0.55349716, -0.08797352],\n",
              "       [-1.57260198,  0.32672676, -1.13189065,  0.61116414],\n",
              "       [-0.94091469,  0.58028929, -0.9341291 , -0.35830978]])"
            ]
          },
          "metadata": {},
          "execution_count": 18
        }
      ]
    },
    {
      "cell_type": "code",
      "source": [
        "q.var(),k.var(),scaled.var()"
      ],
      "metadata": {
        "colab": {
          "base_uri": "https://localhost:8080/"
        },
        "id": "ywQtUW7QOQgb",
        "outputId": "be86fbee-cb55-49db-bc70-51d50179c92d"
      },
      "execution_count": 19,
      "outputs": [
        {
          "output_type": "execute_result",
          "data": {
            "text/plain": [
              "(1.1171506359230339, 0.7808630761759632, 0.6344960968651479)"
            ]
          },
          "metadata": {},
          "execution_count": 19
        }
      ]
    },
    {
      "cell_type": "markdown",
      "source": [
        "**Masking**\n",
        "1. Used in Decoder to ensure we don't see the future word while prediction.\n",
        "2. In encoder not essential"
      ],
      "metadata": {
        "id": "M3PRCEwGOkWj"
      }
    },
    {
      "cell_type": "code",
      "source": [
        "mask = np.tril(np.ones((L,L)))\n",
        "#creates a lower triangular matrix of ones\n",
        "mask"
      ],
      "metadata": {
        "colab": {
          "base_uri": "https://localhost:8080/"
        },
        "id": "T04dsemyPcXw",
        "outputId": "66bb8ac3-2967-47fb-ca2c-31caf1015941"
      },
      "execution_count": 26,
      "outputs": [
        {
          "output_type": "execute_result",
          "data": {
            "text/plain": [
              "array([[1., 0., 0., 0.],\n",
              "       [1., 1., 0., 0.],\n",
              "       [1., 1., 1., 0.],\n",
              "       [1., 1., 1., 1.]])"
            ]
          },
          "metadata": {},
          "execution_count": 26
        }
      ]
    },
    {
      "cell_type": "code",
      "source": [
        "mask[mask==0] = -np.infty\n",
        "mask[mask==1] = 0\n",
        "mask"
      ],
      "metadata": {
        "colab": {
          "base_uri": "https://localhost:8080/"
        },
        "id": "t5Vw2131Pjk3",
        "outputId": "d0444afd-c39e-4f22-991e-b627033e570a"
      },
      "execution_count": 27,
      "outputs": [
        {
          "output_type": "execute_result",
          "data": {
            "text/plain": [
              "array([[  0., -inf, -inf, -inf],\n",
              "       [  0.,   0., -inf, -inf],\n",
              "       [  0.,   0.,   0., -inf],\n",
              "       [  0.,   0.,   0.,   0.]])"
            ]
          },
          "metadata": {},
          "execution_count": 27
        }
      ]
    },
    {
      "cell_type": "code",
      "source": [
        "# now the values applied with mask that we dont see the future word\n",
        "scaled + mask"
      ],
      "metadata": {
        "colab": {
          "base_uri": "https://localhost:8080/"
        },
        "id": "jtByw08BQMUF",
        "outputId": "30178cd9-9b47-4f43-cbdf-beded6f4075b"
      },
      "execution_count": 30,
      "outputs": [
        {
          "output_type": "execute_result",
          "data": {
            "text/plain": [
              "array([[ 0.01478933,        -inf,        -inf,        -inf],\n",
              "       [-0.20964708,  0.20051122,        -inf,        -inf],\n",
              "       [-1.57260198,  0.32672676, -1.13189065,        -inf],\n",
              "       [-0.94091469,  0.58028929, -0.9341291 , -0.35830978]])"
            ]
          },
          "metadata": {},
          "execution_count": 30
        }
      ]
    },
    {
      "cell_type": "markdown",
      "source": [
        "**Softmax**\n",
        "- Converts vector to probability"
      ],
      "metadata": {
        "id": "IcT9vC7iQbsZ"
      }
    },
    {
      "cell_type": "code",
      "source": [
        "def softmax(x):\n",
        "  return (np.exp(x).T/np.sum(np.exp(x),axis=1)).T\n"
      ],
      "metadata": {
        "id": "riWarbPeRJwm"
      },
      "execution_count": 31,
      "outputs": []
    },
    {
      "cell_type": "code",
      "source": [
        "attention = softmax(scaled+mask)\n",
        "attention"
      ],
      "metadata": {
        "colab": {
          "base_uri": "https://localhost:8080/"
        },
        "id": "Szg3d-1kSOox",
        "outputId": "980bc64e-1b36-4827-e276-533ff869876c"
      },
      "execution_count": 33,
      "outputs": [
        {
          "output_type": "execute_result",
          "data": {
            "text/plain": [
              "array([[1.        , 0.        , 0.        , 0.        ],\n",
              "       [0.39887416, 0.60112584, 0.        , 0.        ],\n",
              "       [0.10828112, 0.72347036, 0.16824852, 0.        ],\n",
              "       [0.11939958, 0.54657943, 0.12021253, 0.21380846]])"
            ]
          },
          "metadata": {},
          "execution_count": 33
        }
      ]
    },
    {
      "cell_type": "code",
      "source": [
        "new_v = np.matmul(attention,v)\n",
        "new_v"
      ],
      "metadata": {
        "colab": {
          "base_uri": "https://localhost:8080/"
        },
        "id": "C2RlKyKFSo2T",
        "outputId": "5f3cf8d3-8b12-4b26-9db4-00ca7744c295"
      },
      "execution_count": 35,
      "outputs": [
        {
          "output_type": "execute_result",
          "data": {
            "text/plain": [
              "array([[-0.77058434, -0.18086082,  0.34717439, -0.44675901,  0.34852945,\n",
              "        -1.29106083,  0.30556096,  0.8858823 ],\n",
              "       [-0.50593388,  0.60273586,  0.57940803, -0.1553712 , -0.13689584,\n",
              "        -1.674999  ,  0.89447286,  0.15722183],\n",
              "       [-0.48473845,  0.72910927,  0.70264443, -0.04773369, -0.55274605,\n",
              "        -1.85728125,  1.01094781, -0.1081702 ],\n",
              "       [-0.65254383,  0.11826537,  0.65652914,  0.10464037, -0.34560109,\n",
              "        -1.51266715,  0.83387896,  0.10833803]])"
            ]
          },
          "metadata": {},
          "execution_count": 35
        }
      ]
    },
    {
      "cell_type": "markdown",
      "source": [
        "To sum up.."
      ],
      "metadata": {
        "id": "_9tlU06OTDwP"
      }
    },
    {
      "cell_type": "code",
      "source": [
        "def softmax(x):\n",
        "  return (np.exp(x).T/np.sum(np.exp(x),axis=1)).T\n",
        "\n",
        "def scaled_dot_product_attention(q,k,v,mask = None):\n",
        "  d_k = q.shape[-1]\n",
        "  scaled = np.matmul(q,k.T)/math.sqrt(d_k)\n",
        "  if mask is not None:\n",
        "    scaled = scaled + mask\n",
        "  attention = softmax(scaled)\n",
        "  out = np.matmul(attention,v)\n",
        "  return out, attention"
      ],
      "metadata": {
        "id": "2msc_nvsTH9a"
      },
      "execution_count": 39,
      "outputs": []
    },
    {
      "cell_type": "code",
      "source": [
        "values , attention = scaled_dot_product_attention(q,k,v,mask = mask)\n",
        "print(\"Query\\n\",q)\n",
        "print(\"Key\\n\",k)\n",
        "print(\"Value\\n\",v)\n",
        "print(\"values\\n\",values)\n",
        "print(\"attention\\n\",attention)"
      ],
      "metadata": {
        "colab": {
          "base_uri": "https://localhost:8080/"
        },
        "id": "-LaWx7TRTSm5",
        "outputId": "3de37503-7ea6-4c9b-ac7c-5fe12bfcdb5f"
      },
      "execution_count": 41,
      "outputs": [
        {
          "output_type": "stream",
          "name": "stdout",
          "text": [
            "Query\n",
            " [[ 1.87604879  1.0894955   0.92131853 -0.69520508 -0.15763455 -1.08497782\n",
            "   0.4037962  -0.74904617]\n",
            " [-0.46314594  0.23445128 -0.3592481  -0.88368339  0.1536767   0.28977602\n",
            "   0.95884298  0.83218026]\n",
            " [-1.68177452 -0.33330035  0.38734617 -1.834288    1.17236142 -0.11415349\n",
            "  -1.77938838 -1.73784345]\n",
            " [-0.22117961 -0.40622376 -1.08984183 -0.14067862  0.5211167  -0.53582774\n",
            "  -3.31447763 -0.88837207]]\n",
            "Key\n",
            " [[ 0.92951036 -1.36709148 -0.59088346  0.82162489 -0.28907528 -0.05373544\n",
            "   1.1508031  -0.44655926]\n",
            " [-0.04507338  0.66035027 -0.03346834 -0.97592705 -0.7210328  -1.01253913\n",
            "  -0.64381646  0.64713899]\n",
            " [-1.14807747 -0.78885182 -0.29219078  0.14101149 -1.5610208  -0.45963644\n",
            "   0.53587505  1.31900619]\n",
            " [ 0.50306034  1.69757601  1.65403951 -0.94702131 -0.7028133   1.1977334\n",
            "  -0.65861741 -0.31729829]]\n",
            "Value\n",
            " [[-0.77058434 -0.18086082  0.34717439 -0.44675901  0.34852945 -1.29106083\n",
            "   0.30556096  0.8858823 ]\n",
            " [-0.33032634  1.12268768  0.73350555  0.03797777 -0.45899746 -1.92975933\n",
            "   1.28524252 -0.32627732]\n",
            " [-0.96474784 -0.37764482  0.79871417 -0.15948977 -1.53590743 -1.91003201\n",
            "   0.28544953  0.18994187]\n",
            " [-1.23480624 -2.0035703   0.55256077  0.7314865   0.22589624 -0.3467519\n",
            "   0.28340025  0.73929321]]\n",
            "values\n",
            " [[-0.77058434 -0.18086082  0.34717439 -0.44675901  0.34852945 -1.29106083\n",
            "   0.30556096  0.8858823 ]\n",
            " [-0.50593388  0.60273586  0.57940803 -0.1553712  -0.13689584 -1.674999\n",
            "   0.89447286  0.15722183]\n",
            " [-0.48473845  0.72910927  0.70264443 -0.04773369 -0.55274605 -1.85728125\n",
            "   1.01094781 -0.1081702 ]\n",
            " [-0.65254383  0.11826537  0.65652914  0.10464037 -0.34560109 -1.51266715\n",
            "   0.83387896  0.10833803]]\n",
            "attention\n",
            " [[1.         0.         0.         0.        ]\n",
            " [0.39887416 0.60112584 0.         0.        ]\n",
            " [0.10828112 0.72347036 0.16824852 0.        ]\n",
            " [0.11939958 0.54657943 0.12021253 0.21380846]]\n"
          ]
        }
      ]
    }
  ]
}